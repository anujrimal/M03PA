{
 "cells": [
  {
   "cell_type": "code",
   "execution_count": 13,
   "id": "9ba1588a-5ce5-4162-90e1-e41581b61a17",
   "metadata": {},
   "outputs": [
    {
     "name": "stdout",
     "output_type": "stream",
     "text": [
      "Initial list of things\n",
      "['mozzarella', 'cinderella ', 'salmonella']\n"
     ]
    }
   ],
   "source": [
    "thing=[\"mozzarella\", \"cinderella \", \"salmonella\"]\n",
    "print(\"Initial list of things\")\n",
    "print(thing)"
   ]
  },
  {
   "cell_type": "code",
   "execution_count": 10,
   "id": "e197e38f-e380-44e2-9273-c31a192c993f",
   "metadata": {},
   "outputs": [
    {
     "name": "stdout",
     "output_type": "stream",
     "text": [
      "List with person being capitalized\n",
      "['mozzarella', 'Cinderella ', 'salmonella']\n"
     ]
    }
   ],
   "source": [
    "thing[1]=thing[1].capitalize()\n",
    "print(\"List with person being capitalized\")\n",
    "print(thing)"
   ]
  },
  {
   "cell_type": "code",
   "execution_count": 11,
   "id": "286a3c68-42df-4137-97e0-ac79b5d3e330",
   "metadata": {},
   "outputs": [
    {
     "name": "stdout",
     "output_type": "stream",
     "text": [
      "List with cheesy thing converted to upper\n",
      "['MOZZARELLA', 'Cinderella ', 'salmonella']\n"
     ]
    }
   ],
   "source": [
    "thing[0]=thing[0].upper()\n",
    "print(\"List with cheesy thing converted to upper\")\n",
    "print(thing)"
   ]
  },
  {
   "cell_type": "code",
   "execution_count": 12,
   "id": "1dac67e0-f7ac-41e8-be86-5261a3de3904",
   "metadata": {},
   "outputs": [
    {
     "name": "stdout",
     "output_type": "stream",
     "text": [
      "List with disease removed \n",
      "['MOZZARELLA', 'Cinderella ']\n"
     ]
    }
   ],
   "source": [
    "print(\"List with disease removed \")\n",
    "thing.remove(thing[2])\n",
    "print(thing)"
   ]
  },
  {
   "cell_type": "code",
   "execution_count": 14,
   "id": "9bfd2bd9-d605-43ee-8d0a-b6697c48227e",
   "metadata": {},
   "outputs": [],
   "source": [
    "def good():\n",
    "    return ['Harry', 'Ron', 'Hermione']"
   ]
  },
  {
   "cell_type": "code",
   "execution_count": 15,
   "id": "da261160-b011-430f-934b-c50488b006a8",
   "metadata": {},
   "outputs": [
    {
     "name": "stdout",
     "output_type": "stream",
     "text": [
      "5\n"
     ]
    }
   ],
   "source": [
    "def get_odds():\n",
    "    for number in range(1, 10, 2):\n",
    "        yield number\n",
    "\n",
    "# use for loop to find the third value\n",
    "for i, number in enumerate(get_odds()):\n",
    "    if i == 2:\n",
    "        print(number)\n",
    "        break"
   ]
  },
  {
   "cell_type": "code",
   "execution_count": null,
   "id": "d08cf5de-309a-457e-812a-06c2379f2099",
   "metadata": {},
   "outputs": [],
   "source": []
  }
 ],
 "metadata": {
  "kernelspec": {
   "display_name": "Python 3 (ipykernel)",
   "language": "python",
   "name": "python3"
  },
  "language_info": {
   "codemirror_mode": {
    "name": "ipython",
    "version": 3
   },
   "file_extension": ".py",
   "mimetype": "text/x-python",
   "name": "python",
   "nbconvert_exporter": "python",
   "pygments_lexer": "ipython3",
   "version": "3.11.7"
  }
 },
 "nbformat": 4,
 "nbformat_minor": 5
}
